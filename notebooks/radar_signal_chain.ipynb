{
 "cells": [
  {
   "cell_type": "code",
   "execution_count": null,
   "metadata": {},
   "outputs": [],
   "source": [
    "import numpy as np\n",
    "import matplotlib.pyplot as plt\n",
    "from numpy.fft import fftshift, fft2\n",
    "\n",
    "N = 128\n",
    "signal = np.exp(1j * 2*np.pi * np.linspace(0,1,N)**2 * 10)\n",
    "range_doppler = np.abs(fftshift(fft2(signal.reshape(1,-1))))\n",
    "plt.imshow(range_doppler)\n",
    "plt.title('Synthetic Range–Doppler map')\n",
    "plt.show()"
   ]
  }
 ],
 "metadata": {},
 "nbformat": 4,
 "nbformat_minor": 2
}
